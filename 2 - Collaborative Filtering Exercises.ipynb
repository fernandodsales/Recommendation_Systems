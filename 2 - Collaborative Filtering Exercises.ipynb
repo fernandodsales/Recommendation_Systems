{
 "cells": [
  {
   "cell_type": "markdown",
   "metadata": {},
   "source": [
    "![](https://www.ieseg.fr/wp-content/uploads/IESEG-Logo-2012-rgb.jpg)\n"
   ]
  },
  {
   "cell_type": "code",
   "execution_count": 2,
   "metadata": {},
   "outputs": [],
   "source": [
    "import pandas as pd\n",
    "import numpy as np\n",
    "import plotly.express as px"
   ]
  },
  {
   "cell_type": "code",
   "execution_count": 3,
   "metadata": {},
   "outputs": [],
   "source": [
    "#conda install -c conda-forge scikit-surprise"
   ]
  },
  {
   "cell_type": "markdown",
   "metadata": {},
   "source": [
    "# Collaborative Filtering"
   ]
  },
  {
   "cell_type": "markdown",
   "metadata": {},
   "source": [
    "### Exercise 1\n",
    "\n",
    "- Read the Amazon Reviews dataset (<font color=\"blue\">Amazon_Reviews_2019.csv</font>)\n",
    "- Filter the data to only contain items with at least 10 reviews and user with at least 3 reviews.\n",
    "- Pivot the dataframe so that the reviewer names (or ids) are in the rows, the items are in the columns and the values contain the user-item ratings\n",
    "- compute the sparsity (percentage of NA values) of the pivoted dataset"
   ]
  },
  {
   "cell_type": "code",
   "execution_count": 4,
   "metadata": {},
   "outputs": [],
   "source": [
    "df = pd.read_csv (r'C:\\Users\\fdelgado\\OneDrive - IESEG\\Documents\\01. IESEG\\16. Recommendation Systems\\Session 1\\Amazon_Reviews_2019.csv')"
   ]
  },
  {
   "cell_type": "code",
   "execution_count": 5,
   "metadata": {},
   "outputs": [
    {
     "data": {
      "text/html": [
       "<div>\n",
       "<style scoped>\n",
       "    .dataframe tbody tr th:only-of-type {\n",
       "        vertical-align: middle;\n",
       "    }\n",
       "\n",
       "    .dataframe tbody tr th {\n",
       "        vertical-align: top;\n",
       "    }\n",
       "\n",
       "    .dataframe thead th {\n",
       "        text-align: right;\n",
       "    }\n",
       "</style>\n",
       "<table border=\"1\" class=\"dataframe\">\n",
       "  <thead>\n",
       "    <tr style=\"text-align: right;\">\n",
       "      <th></th>\n",
       "      <th>reviewerID</th>\n",
       "      <th>dateAdded</th>\n",
       "      <th>dateUpdated</th>\n",
       "      <th>name</th>\n",
       "      <th>asin</th>\n",
       "      <th>brand</th>\n",
       "      <th>categories</th>\n",
       "      <th>primaryCategories</th>\n",
       "      <th>imageURLs</th>\n",
       "      <th>keys</th>\n",
       "      <th>...</th>\n",
       "      <th>reviews.didPurchase</th>\n",
       "      <th>reviews.doRecommend</th>\n",
       "      <th>reviews.id</th>\n",
       "      <th>reviews.numHelpful</th>\n",
       "      <th>reviews.rating</th>\n",
       "      <th>reviews.sourceURLs</th>\n",
       "      <th>reviews.text</th>\n",
       "      <th>reviews.title</th>\n",
       "      <th>reviews.username</th>\n",
       "      <th>sourceURLs</th>\n",
       "    </tr>\n",
       "  </thead>\n",
       "  <tbody>\n",
       "    <tr>\n",
       "      <th>0</th>\n",
       "      <td>100000</td>\n",
       "      <td>2015-10-30T08:59:32Z</td>\n",
       "      <td>2019-04-25T09:08:16Z</td>\n",
       "      <td>AmazonBasics AAA Performance Alkaline Batterie...</td>\n",
       "      <td>B00QWO9P0O</td>\n",
       "      <td>Amazonbasics</td>\n",
       "      <td>AA,AAA,Health,Electronics,Health &amp; Household,C...</td>\n",
       "      <td>Health &amp; Beauty</td>\n",
       "      <td>https://images-na.ssl-images-amazon.com/images...</td>\n",
       "      <td>amazonbasics/hl002619,amazonbasicsaaaperforman...</td>\n",
       "      <td>...</td>\n",
       "      <td>NaN</td>\n",
       "      <td>NaN</td>\n",
       "      <td>NaN</td>\n",
       "      <td>NaN</td>\n",
       "      <td>3</td>\n",
       "      <td>https://www.amazon.com/product-reviews/B00QWO9...</td>\n",
       "      <td>I order 3 of them and one of the item is bad q...</td>\n",
       "      <td>... 3 of them and one of the item is bad quali...</td>\n",
       "      <td>Byger yang</td>\n",
       "      <td>https://www.barcodable.com/upc/841710106442,ht...</td>\n",
       "    </tr>\n",
       "    <tr>\n",
       "      <th>1</th>\n",
       "      <td>100001</td>\n",
       "      <td>2015-10-30T08:59:32Z</td>\n",
       "      <td>2019-04-25T09:08:16Z</td>\n",
       "      <td>AmazonBasics AAA Performance Alkaline Batterie...</td>\n",
       "      <td>B00QWO9P0O</td>\n",
       "      <td>Amazonbasics</td>\n",
       "      <td>AA,AAA,Health,Electronics,Health &amp; Household,C...</td>\n",
       "      <td>Health &amp; Beauty</td>\n",
       "      <td>https://images-na.ssl-images-amazon.com/images...</td>\n",
       "      <td>amazonbasics/hl002619,amazonbasicsaaaperforman...</td>\n",
       "      <td>...</td>\n",
       "      <td>NaN</td>\n",
       "      <td>NaN</td>\n",
       "      <td>NaN</td>\n",
       "      <td>NaN</td>\n",
       "      <td>4</td>\n",
       "      <td>https://www.amazon.com/product-reviews/B00QWO9...</td>\n",
       "      <td>Bulk is always the less expensive way to go fo...</td>\n",
       "      <td>... always the less expensive way to go for pr...</td>\n",
       "      <td>ByMG</td>\n",
       "      <td>https://www.barcodable.com/upc/841710106442,ht...</td>\n",
       "    </tr>\n",
       "    <tr>\n",
       "      <th>2</th>\n",
       "      <td>100002</td>\n",
       "      <td>2015-10-30T08:59:32Z</td>\n",
       "      <td>2019-04-25T09:08:16Z</td>\n",
       "      <td>AmazonBasics AAA Performance Alkaline Batterie...</td>\n",
       "      <td>B00QWO9P0O</td>\n",
       "      <td>Amazonbasics</td>\n",
       "      <td>AA,AAA,Health,Electronics,Health &amp; Household,C...</td>\n",
       "      <td>Health &amp; Beauty</td>\n",
       "      <td>https://images-na.ssl-images-amazon.com/images...</td>\n",
       "      <td>amazonbasics/hl002619,amazonbasicsaaaperforman...</td>\n",
       "      <td>...</td>\n",
       "      <td>NaN</td>\n",
       "      <td>NaN</td>\n",
       "      <td>NaN</td>\n",
       "      <td>NaN</td>\n",
       "      <td>5</td>\n",
       "      <td>https://www.amazon.com/product-reviews/B00QWO9...</td>\n",
       "      <td>Well they are not Duracell but for the price i...</td>\n",
       "      <td>... are not Duracell but for the price i am ha...</td>\n",
       "      <td>BySharon Lambert</td>\n",
       "      <td>https://www.barcodable.com/upc/841710106442,ht...</td>\n",
       "    </tr>\n",
       "    <tr>\n",
       "      <th>3</th>\n",
       "      <td>100003</td>\n",
       "      <td>2015-10-30T08:59:32Z</td>\n",
       "      <td>2019-04-25T09:08:16Z</td>\n",
       "      <td>AmazonBasics AAA Performance Alkaline Batterie...</td>\n",
       "      <td>B00QWO9P0O</td>\n",
       "      <td>Amazonbasics</td>\n",
       "      <td>AA,AAA,Health,Electronics,Health &amp; Household,C...</td>\n",
       "      <td>Health &amp; Beauty</td>\n",
       "      <td>https://images-na.ssl-images-amazon.com/images...</td>\n",
       "      <td>amazonbasics/hl002619,amazonbasicsaaaperforman...</td>\n",
       "      <td>...</td>\n",
       "      <td>NaN</td>\n",
       "      <td>NaN</td>\n",
       "      <td>NaN</td>\n",
       "      <td>NaN</td>\n",
       "      <td>5</td>\n",
       "      <td>https://www.amazon.com/product-reviews/B00QWO9...</td>\n",
       "      <td>Seem to work as well as name brand batteries a...</td>\n",
       "      <td>... as well as name brand batteries at a much ...</td>\n",
       "      <td>Bymark sexson</td>\n",
       "      <td>https://www.barcodable.com/upc/841710106442,ht...</td>\n",
       "    </tr>\n",
       "    <tr>\n",
       "      <th>4</th>\n",
       "      <td>100004</td>\n",
       "      <td>2015-10-30T08:59:32Z</td>\n",
       "      <td>2019-04-25T09:08:16Z</td>\n",
       "      <td>AmazonBasics AAA Performance Alkaline Batterie...</td>\n",
       "      <td>B00QWO9P0O</td>\n",
       "      <td>Amazonbasics</td>\n",
       "      <td>AA,AAA,Health,Electronics,Health &amp; Household,C...</td>\n",
       "      <td>Health &amp; Beauty</td>\n",
       "      <td>https://images-na.ssl-images-amazon.com/images...</td>\n",
       "      <td>amazonbasics/hl002619,amazonbasicsaaaperforman...</td>\n",
       "      <td>...</td>\n",
       "      <td>NaN</td>\n",
       "      <td>NaN</td>\n",
       "      <td>NaN</td>\n",
       "      <td>NaN</td>\n",
       "      <td>5</td>\n",
       "      <td>https://www.amazon.com/product-reviews/B00QWO9...</td>\n",
       "      <td>These batteries are very long lasting the pric...</td>\n",
       "      <td>... batteries are very long lasting the price ...</td>\n",
       "      <td>Bylinda</td>\n",
       "      <td>https://www.barcodable.com/upc/841710106442,ht...</td>\n",
       "    </tr>\n",
       "  </tbody>\n",
       "</table>\n",
       "<p>5 rows × 24 columns</p>\n",
       "</div>"
      ],
      "text/plain": [
       "   reviewerID             dateAdded           dateUpdated  \\\n",
       "0      100000  2015-10-30T08:59:32Z  2019-04-25T09:08:16Z   \n",
       "1      100001  2015-10-30T08:59:32Z  2019-04-25T09:08:16Z   \n",
       "2      100002  2015-10-30T08:59:32Z  2019-04-25T09:08:16Z   \n",
       "3      100003  2015-10-30T08:59:32Z  2019-04-25T09:08:16Z   \n",
       "4      100004  2015-10-30T08:59:32Z  2019-04-25T09:08:16Z   \n",
       "\n",
       "                                                name        asin  \\\n",
       "0  AmazonBasics AAA Performance Alkaline Batterie...  B00QWO9P0O   \n",
       "1  AmazonBasics AAA Performance Alkaline Batterie...  B00QWO9P0O   \n",
       "2  AmazonBasics AAA Performance Alkaline Batterie...  B00QWO9P0O   \n",
       "3  AmazonBasics AAA Performance Alkaline Batterie...  B00QWO9P0O   \n",
       "4  AmazonBasics AAA Performance Alkaline Batterie...  B00QWO9P0O   \n",
       "\n",
       "          brand                                         categories  \\\n",
       "0  Amazonbasics  AA,AAA,Health,Electronics,Health & Household,C...   \n",
       "1  Amazonbasics  AA,AAA,Health,Electronics,Health & Household,C...   \n",
       "2  Amazonbasics  AA,AAA,Health,Electronics,Health & Household,C...   \n",
       "3  Amazonbasics  AA,AAA,Health,Electronics,Health & Household,C...   \n",
       "4  Amazonbasics  AA,AAA,Health,Electronics,Health & Household,C...   \n",
       "\n",
       "  primaryCategories                                          imageURLs  \\\n",
       "0   Health & Beauty  https://images-na.ssl-images-amazon.com/images...   \n",
       "1   Health & Beauty  https://images-na.ssl-images-amazon.com/images...   \n",
       "2   Health & Beauty  https://images-na.ssl-images-amazon.com/images...   \n",
       "3   Health & Beauty  https://images-na.ssl-images-amazon.com/images...   \n",
       "4   Health & Beauty  https://images-na.ssl-images-amazon.com/images...   \n",
       "\n",
       "                                                keys  ... reviews.didPurchase  \\\n",
       "0  amazonbasics/hl002619,amazonbasicsaaaperforman...  ...                 NaN   \n",
       "1  amazonbasics/hl002619,amazonbasicsaaaperforman...  ...                 NaN   \n",
       "2  amazonbasics/hl002619,amazonbasicsaaaperforman...  ...                 NaN   \n",
       "3  amazonbasics/hl002619,amazonbasicsaaaperforman...  ...                 NaN   \n",
       "4  amazonbasics/hl002619,amazonbasicsaaaperforman...  ...                 NaN   \n",
       "\n",
       "  reviews.doRecommend reviews.id reviews.numHelpful reviews.rating  \\\n",
       "0                 NaN        NaN                NaN              3   \n",
       "1                 NaN        NaN                NaN              4   \n",
       "2                 NaN        NaN                NaN              5   \n",
       "3                 NaN        NaN                NaN              5   \n",
       "4                 NaN        NaN                NaN              5   \n",
       "\n",
       "                                  reviews.sourceURLs  \\\n",
       "0  https://www.amazon.com/product-reviews/B00QWO9...   \n",
       "1  https://www.amazon.com/product-reviews/B00QWO9...   \n",
       "2  https://www.amazon.com/product-reviews/B00QWO9...   \n",
       "3  https://www.amazon.com/product-reviews/B00QWO9...   \n",
       "4  https://www.amazon.com/product-reviews/B00QWO9...   \n",
       "\n",
       "                                        reviews.text  \\\n",
       "0  I order 3 of them and one of the item is bad q...   \n",
       "1  Bulk is always the less expensive way to go fo...   \n",
       "2  Well they are not Duracell but for the price i...   \n",
       "3  Seem to work as well as name brand batteries a...   \n",
       "4  These batteries are very long lasting the pric...   \n",
       "\n",
       "                                       reviews.title  reviews.username  \\\n",
       "0  ... 3 of them and one of the item is bad quali...        Byger yang   \n",
       "1  ... always the less expensive way to go for pr...              ByMG   \n",
       "2  ... are not Duracell but for the price i am ha...  BySharon Lambert   \n",
       "3  ... as well as name brand batteries at a much ...     Bymark sexson   \n",
       "4  ... batteries are very long lasting the price ...           Bylinda   \n",
       "\n",
       "                                          sourceURLs  \n",
       "0  https://www.barcodable.com/upc/841710106442,ht...  \n",
       "1  https://www.barcodable.com/upc/841710106442,ht...  \n",
       "2  https://www.barcodable.com/upc/841710106442,ht...  \n",
       "3  https://www.barcodable.com/upc/841710106442,ht...  \n",
       "4  https://www.barcodable.com/upc/841710106442,ht...  \n",
       "\n",
       "[5 rows x 24 columns]"
      ]
     },
     "execution_count": 5,
     "metadata": {},
     "output_type": "execute_result"
    }
   ],
   "source": [
    "df.head()"
   ]
  },
  {
   "cell_type": "code",
   "execution_count": 6,
   "metadata": {},
   "outputs": [],
   "source": [
    "#reviews by product \n",
    "avg_products = df.groupby('asin').agg(\"count\")[\"dateAdded\"]\n",
    "avg_products = pd.DataFrame(avg_products)    \n",
    "avg_products = avg_products.rename(columns={'dateAdded':'review_count'})\n",
    "\n",
    "#reviews by user \n",
    "avg_users = df.groupby('reviewerID').agg(\"count\")[\"dateAdded\"]\n",
    "avg_users = pd.DataFrame(avg_users)    \n",
    "avg_users = avg_users.rename(columns={'dateAdded':'review_count'})"
   ]
  },
  {
   "cell_type": "code",
   "execution_count": 7,
   "metadata": {
    "scrolled": true
   },
   "outputs": [
    {
     "data": {
      "text/html": [
       "<div>\n",
       "<style scoped>\n",
       "    .dataframe tbody tr th:only-of-type {\n",
       "        vertical-align: middle;\n",
       "    }\n",
       "\n",
       "    .dataframe tbody tr th {\n",
       "        vertical-align: top;\n",
       "    }\n",
       "\n",
       "    .dataframe thead th {\n",
       "        text-align: right;\n",
       "    }\n",
       "</style>\n",
       "<table border=\"1\" class=\"dataframe\">\n",
       "  <thead>\n",
       "    <tr style=\"text-align: right;\">\n",
       "      <th></th>\n",
       "      <th>review_count</th>\n",
       "    </tr>\n",
       "    <tr>\n",
       "      <th>reviewerID</th>\n",
       "      <th></th>\n",
       "    </tr>\n",
       "  </thead>\n",
       "  <tbody>\n",
       "    <tr>\n",
       "      <th>100001</th>\n",
       "      <td>7</td>\n",
       "    </tr>\n",
       "    <tr>\n",
       "      <th>100004</th>\n",
       "      <td>3</td>\n",
       "    </tr>\n",
       "    <tr>\n",
       "      <th>100006</th>\n",
       "      <td>889</td>\n",
       "    </tr>\n",
       "    <tr>\n",
       "      <th>100015</th>\n",
       "      <td>3</td>\n",
       "    </tr>\n",
       "    <tr>\n",
       "      <th>100017</th>\n",
       "      <td>12</td>\n",
       "    </tr>\n",
       "  </tbody>\n",
       "</table>\n",
       "</div>"
      ],
      "text/plain": [
       "            review_count\n",
       "reviewerID              \n",
       "100001                 7\n",
       "100004                 3\n",
       "100006               889\n",
       "100015                 3\n",
       "100017                12"
      ]
     },
     "execution_count": 7,
     "metadata": {},
     "output_type": "execute_result"
    }
   ],
   "source": [
    "#subset products with more than 9 reviews \n",
    "products = avg_products[avg_products['review_count'] > 9]\n",
    "products.head()\n",
    "\n",
    "#subset users with more than 9 reviews \n",
    "users = avg_users[avg_users['review_count'] > 2]\n",
    "users.head()"
   ]
  },
  {
   "cell_type": "code",
   "execution_count": 8,
   "metadata": {
    "scrolled": true
   },
   "outputs": [
    {
     "name": "stderr",
     "output_type": "stream",
     "text": [
      "<ipython-input-8-05778fac969d>:2: SettingWithCopyWarning: \n",
      "A value is trying to be set on a copy of a slice from a DataFrame.\n",
      "Try using .loc[row_indexer,col_indexer] = value instead\n",
      "\n",
      "See the caveats in the documentation: https://pandas.pydata.org/pandas-docs/stable/user_guide/indexing.html#returning-a-view-versus-a-copy\n",
      "  users['id'] = users.index\n",
      "<ipython-input-8-05778fac969d>:3: SettingWithCopyWarning: \n",
      "A value is trying to be set on a copy of a slice from a DataFrame.\n",
      "Try using .loc[row_indexer,col_indexer] = value instead\n",
      "\n",
      "See the caveats in the documentation: https://pandas.pydata.org/pandas-docs/stable/user_guide/indexing.html#returning-a-view-versus-a-copy\n",
      "  products['id'] = products.index\n"
     ]
    }
   ],
   "source": [
    "#put index into column\n",
    "users['id'] = users.index\n",
    "products['id'] = products.index"
   ]
  },
  {
   "cell_type": "code",
   "execution_count": 9,
   "metadata": {},
   "outputs": [],
   "source": [
    "#Filter out users\n",
    "df_filter = df.loc[df['reviewerID'].isin(users['id'])]\n",
    "df_filter = df_filter.loc[df_filter['asin'].isin(products['id'])]"
   ]
  },
  {
   "cell_type": "code",
   "execution_count": 10,
   "metadata": {},
   "outputs": [
    {
     "data": {
      "text/plain": [
       "2171"
      ]
     },
     "execution_count": 10,
     "metadata": {},
     "output_type": "execute_result"
    }
   ],
   "source": [
    "#We have 34 unique products\n",
    "df_filter.asin.nunique()\n",
    "\n",
    "#We have 2171 unique users\n",
    "df_filter.reviewerID.nunique()"
   ]
  },
  {
   "cell_type": "code",
   "execution_count": 11,
   "metadata": {
    "scrolled": true
   },
   "outputs": [
    {
     "data": {
      "text/html": [
       "<div>\n",
       "<style scoped>\n",
       "    .dataframe tbody tr th:only-of-type {\n",
       "        vertical-align: middle;\n",
       "    }\n",
       "\n",
       "    .dataframe tbody tr th {\n",
       "        vertical-align: top;\n",
       "    }\n",
       "\n",
       "    .dataframe thead th {\n",
       "        text-align: right;\n",
       "    }\n",
       "</style>\n",
       "<table border=\"1\" class=\"dataframe\">\n",
       "  <thead>\n",
       "    <tr style=\"text-align: right;\">\n",
       "      <th>asin</th>\n",
       "      <th>B00DUGZFWY</th>\n",
       "      <th>B00EEBS9O0</th>\n",
       "      <th>B00IOY8XWQ</th>\n",
       "      <th>B00IOYAM4I</th>\n",
       "      <th>B00QFQRELG</th>\n",
       "      <th>B00QWO9P0O</th>\n",
       "      <th>B00REQKWGA</th>\n",
       "      <th>B00VINDBJK</th>\n",
       "      <th>B00WRDS8H0</th>\n",
       "      <th>B00ZS0G0PG</th>\n",
       "      <th>...</th>\n",
       "      <th>B01AHBBG04</th>\n",
       "      <th>B01AHBDCKQ</th>\n",
       "      <th>B01BH83OOM</th>\n",
       "      <th>B01IO618J8</th>\n",
       "      <th>B01J94SBEY</th>\n",
       "      <th>B01J94SCAM</th>\n",
       "      <th>B01J94SWWU</th>\n",
       "      <th>B01J94T1Z2</th>\n",
       "      <th>B01J94YIT6</th>\n",
       "      <th>B06XD5YCKX</th>\n",
       "    </tr>\n",
       "    <tr>\n",
       "      <th>reviewerID</th>\n",
       "      <th></th>\n",
       "      <th></th>\n",
       "      <th></th>\n",
       "      <th></th>\n",
       "      <th></th>\n",
       "      <th></th>\n",
       "      <th></th>\n",
       "      <th></th>\n",
       "      <th></th>\n",
       "      <th></th>\n",
       "      <th></th>\n",
       "      <th></th>\n",
       "      <th></th>\n",
       "      <th></th>\n",
       "      <th></th>\n",
       "      <th></th>\n",
       "      <th></th>\n",
       "      <th></th>\n",
       "      <th></th>\n",
       "      <th></th>\n",
       "      <th></th>\n",
       "    </tr>\n",
       "  </thead>\n",
       "  <tbody>\n",
       "    <tr>\n",
       "      <th>100001</th>\n",
       "      <td>NaN</td>\n",
       "      <td>NaN</td>\n",
       "      <td>NaN</td>\n",
       "      <td>NaN</td>\n",
       "      <td>NaN</td>\n",
       "      <td>4.714286</td>\n",
       "      <td>NaN</td>\n",
       "      <td>NaN</td>\n",
       "      <td>NaN</td>\n",
       "      <td>NaN</td>\n",
       "      <td>...</td>\n",
       "      <td>NaN</td>\n",
       "      <td>NaN</td>\n",
       "      <td>NaN</td>\n",
       "      <td>NaN</td>\n",
       "      <td>NaN</td>\n",
       "      <td>NaN</td>\n",
       "      <td>NaN</td>\n",
       "      <td>NaN</td>\n",
       "      <td>NaN</td>\n",
       "      <td>NaN</td>\n",
       "    </tr>\n",
       "    <tr>\n",
       "      <th>100004</th>\n",
       "      <td>NaN</td>\n",
       "      <td>NaN</td>\n",
       "      <td>NaN</td>\n",
       "      <td>NaN</td>\n",
       "      <td>NaN</td>\n",
       "      <td>5.000000</td>\n",
       "      <td>NaN</td>\n",
       "      <td>NaN</td>\n",
       "      <td>NaN</td>\n",
       "      <td>NaN</td>\n",
       "      <td>...</td>\n",
       "      <td>NaN</td>\n",
       "      <td>NaN</td>\n",
       "      <td>NaN</td>\n",
       "      <td>NaN</td>\n",
       "      <td>NaN</td>\n",
       "      <td>NaN</td>\n",
       "      <td>NaN</td>\n",
       "      <td>NaN</td>\n",
       "      <td>NaN</td>\n",
       "      <td>NaN</td>\n",
       "    </tr>\n",
       "    <tr>\n",
       "      <th>100006</th>\n",
       "      <td>NaN</td>\n",
       "      <td>NaN</td>\n",
       "      <td>NaN</td>\n",
       "      <td>NaN</td>\n",
       "      <td>NaN</td>\n",
       "      <td>4.350956</td>\n",
       "      <td>NaN</td>\n",
       "      <td>NaN</td>\n",
       "      <td>NaN</td>\n",
       "      <td>NaN</td>\n",
       "      <td>...</td>\n",
       "      <td>NaN</td>\n",
       "      <td>NaN</td>\n",
       "      <td>NaN</td>\n",
       "      <td>NaN</td>\n",
       "      <td>NaN</td>\n",
       "      <td>NaN</td>\n",
       "      <td>NaN</td>\n",
       "      <td>NaN</td>\n",
       "      <td>NaN</td>\n",
       "      <td>NaN</td>\n",
       "    </tr>\n",
       "    <tr>\n",
       "      <th>100015</th>\n",
       "      <td>NaN</td>\n",
       "      <td>NaN</td>\n",
       "      <td>NaN</td>\n",
       "      <td>NaN</td>\n",
       "      <td>NaN</td>\n",
       "      <td>2.333333</td>\n",
       "      <td>NaN</td>\n",
       "      <td>NaN</td>\n",
       "      <td>NaN</td>\n",
       "      <td>NaN</td>\n",
       "      <td>...</td>\n",
       "      <td>NaN</td>\n",
       "      <td>NaN</td>\n",
       "      <td>NaN</td>\n",
       "      <td>NaN</td>\n",
       "      <td>NaN</td>\n",
       "      <td>NaN</td>\n",
       "      <td>NaN</td>\n",
       "      <td>NaN</td>\n",
       "      <td>NaN</td>\n",
       "      <td>NaN</td>\n",
       "    </tr>\n",
       "    <tr>\n",
       "      <th>100017</th>\n",
       "      <td>NaN</td>\n",
       "      <td>NaN</td>\n",
       "      <td>NaN</td>\n",
       "      <td>NaN</td>\n",
       "      <td>NaN</td>\n",
       "      <td>4.916667</td>\n",
       "      <td>NaN</td>\n",
       "      <td>NaN</td>\n",
       "      <td>NaN</td>\n",
       "      <td>NaN</td>\n",
       "      <td>...</td>\n",
       "      <td>NaN</td>\n",
       "      <td>NaN</td>\n",
       "      <td>NaN</td>\n",
       "      <td>NaN</td>\n",
       "      <td>NaN</td>\n",
       "      <td>NaN</td>\n",
       "      <td>NaN</td>\n",
       "      <td>NaN</td>\n",
       "      <td>NaN</td>\n",
       "      <td>NaN</td>\n",
       "    </tr>\n",
       "  </tbody>\n",
       "</table>\n",
       "<p>5 rows × 34 columns</p>\n",
       "</div>"
      ],
      "text/plain": [
       "asin        B00DUGZFWY  B00EEBS9O0  B00IOY8XWQ  B00IOYAM4I  B00QFQRELG  \\\n",
       "reviewerID                                                               \n",
       "100001             NaN         NaN         NaN         NaN         NaN   \n",
       "100004             NaN         NaN         NaN         NaN         NaN   \n",
       "100006             NaN         NaN         NaN         NaN         NaN   \n",
       "100015             NaN         NaN         NaN         NaN         NaN   \n",
       "100017             NaN         NaN         NaN         NaN         NaN   \n",
       "\n",
       "asin        B00QWO9P0O  B00REQKWGA  B00VINDBJK  B00WRDS8H0  B00ZS0G0PG  ...  \\\n",
       "reviewerID                                                              ...   \n",
       "100001        4.714286         NaN         NaN         NaN         NaN  ...   \n",
       "100004        5.000000         NaN         NaN         NaN         NaN  ...   \n",
       "100006        4.350956         NaN         NaN         NaN         NaN  ...   \n",
       "100015        2.333333         NaN         NaN         NaN         NaN  ...   \n",
       "100017        4.916667         NaN         NaN         NaN         NaN  ...   \n",
       "\n",
       "asin        B01AHBBG04  B01AHBDCKQ  B01BH83OOM  B01IO618J8  B01J94SBEY  \\\n",
       "reviewerID                                                               \n",
       "100001             NaN         NaN         NaN         NaN         NaN   \n",
       "100004             NaN         NaN         NaN         NaN         NaN   \n",
       "100006             NaN         NaN         NaN         NaN         NaN   \n",
       "100015             NaN         NaN         NaN         NaN         NaN   \n",
       "100017             NaN         NaN         NaN         NaN         NaN   \n",
       "\n",
       "asin        B01J94SCAM  B01J94SWWU  B01J94T1Z2  B01J94YIT6  B06XD5YCKX  \n",
       "reviewerID                                                              \n",
       "100001             NaN         NaN         NaN         NaN         NaN  \n",
       "100004             NaN         NaN         NaN         NaN         NaN  \n",
       "100006             NaN         NaN         NaN         NaN         NaN  \n",
       "100015             NaN         NaN         NaN         NaN         NaN  \n",
       "100017             NaN         NaN         NaN         NaN         NaN  \n",
       "\n",
       "[5 rows x 34 columns]"
      ]
     },
     "execution_count": 11,
     "metadata": {},
     "output_type": "execute_result"
    }
   ],
   "source": [
    "#pivot table\n",
    "new_table = pd.pivot_table(df_filter, values='reviews.rating', index=\"reviewerID\",\n",
    "                    columns=['asin'])\n",
    "new_table.head()"
   ]
  },
  {
   "cell_type": "code",
   "execution_count": 12,
   "metadata": {},
   "outputs": [],
   "source": [
    "percent_missing = new_table.isnull().sum() * 100 / len(new_table)\n",
    "missing_value_df = pd.DataFrame({'percent_missing': percent_missing})"
   ]
  },
  {
   "cell_type": "code",
   "execution_count": 13,
   "metadata": {},
   "outputs": [
    {
     "data": {
      "text/plain": [
       "90.51805890481481"
      ]
     },
     "execution_count": 13,
     "metadata": {},
     "output_type": "execute_result"
    }
   ],
   "source": [
    "#Sparsity\n",
    "missing_value_df.percent_missing.mean()"
   ]
  },
  {
   "cell_type": "markdown",
   "metadata": {},
   "source": [
    "### Exercise 2\n",
    "\n",
    " - Split the dataset (not pivoted) in train and test data based on the \"reviews.date\" column\n",
    " - Cutoff date: 01st May 2017\n",
    " - Executing the cell below should result in:\n",
    "\n",
    " **Train**\n",
    "- Nr items: 27\n",
    "- Nr users: 2065\n",
    "\n",
    "**Test**\n",
    "- Nr items: 28\n",
    "- Nr users: 470\n",
    "\n",
    "**New**\n",
    "- Nr new items: 7\n",
    "- Nr new users: 105\n"
   ]
  },
  {
   "cell_type": "code",
   "execution_count": 14,
   "metadata": {},
   "outputs": [],
   "source": [
    "#Clean date column \n",
    "df_filter['reviews.date'] = pd.to_datetime(df_filter['reviews.date'])\n",
    "df_filter['reviews.date'] = df_filter['reviews.date'].astype(str)\n",
    "new = df_filter[\"reviews.date\"].str.split(\" \", n = 1, expand = True)\n",
    "df_filter['reviews.date'] = new[0]\n",
    "df_filter['reviews.date'] = pd.to_datetime(df_filter['reviews.date'])"
   ]
  },
  {
   "cell_type": "code",
   "execution_count": 15,
   "metadata": {},
   "outputs": [],
   "source": [
    "#Filter anything \n",
    "train = df_filter[df_filter['reviews.date']<pd.to_datetime(\"2017-05-01\")]\n",
    "test = df_filter[df_filter['reviews.date']>=pd.to_datetime(\"2017-05-01\")]"
   ]
  },
  {
   "cell_type": "code",
   "execution_count": 16,
   "metadata": {},
   "outputs": [
    {
     "data": {
      "text/plain": [
       "Timestamp('2017-04-29 00:00:00')"
      ]
     },
     "execution_count": 16,
     "metadata": {},
     "output_type": "execute_result"
    }
   ],
   "source": [
    "#Validate\n",
    "train['reviews.date'].max()"
   ]
  },
  {
   "cell_type": "code",
   "execution_count": 17,
   "metadata": {},
   "outputs": [
    {
     "name": "stdout",
     "output_type": "stream",
     "text": [
      "------ Train ------\n",
      "Nr items: 27\n",
      "Nr users: 2066\n",
      "\n",
      "------ Test ------\n",
      "Nr items: 28\n",
      "Nr users: 470\n",
      "\n",
      "Nr new items: 7\n",
      "Nr new users: 105\n"
     ]
    }
   ],
   "source": [
    "print('------ Train ------')\n",
    "print('Nr items:', len(train[\"asin\"].unique()))\n",
    "print('Nr users:', len(train[\"reviews.username\"].unique()))\n",
    "\n",
    "print('\\n------ Test ------')\n",
    "print('Nr items:', len(test[\"asin\"].unique()))\n",
    "print('Nr users:', len(test[\"reviews.username\"].unique()))\n",
    "\n",
    "print('\\nNr new items:', len(set(test[\"asin\"])-set(train[\"asin\"])))\n",
    "print('Nr new users:', len(set(test[\"reviews.username\"])-set(train[\"reviews.username\"])))"
   ]
  },
  {
   "cell_type": "markdown",
   "metadata": {},
   "source": [
    "### Exercise 3\n",
    "\n",
    "- Fit KNNBasic using <font color=\"blue\">cosine similarity, k=20, min_k=5, user_based=True</font> on the train set \n",
    "- Compute the predictions for the test set\n",
    "- Evaluate the predictions based on RMSE (surprise.accuracy.rmse)"
   ]
  },
  {
   "cell_type": "code",
   "execution_count": 18,
   "metadata": {},
   "outputs": [],
   "source": [
    "from surprise import Dataset\n",
    "from surprise import Reader\n",
    "from surprise import KNNBasic , KNNWithMeans , KNNWithZScore , KNNBaseline"
   ]
  },
  {
   "cell_type": "code",
   "execution_count": 19,
   "metadata": {},
   "outputs": [
    {
     "data": {
      "text/html": [
       "<div>\n",
       "<style scoped>\n",
       "    .dataframe tbody tr th:only-of-type {\n",
       "        vertical-align: middle;\n",
       "    }\n",
       "\n",
       "    .dataframe tbody tr th {\n",
       "        vertical-align: top;\n",
       "    }\n",
       "\n",
       "    .dataframe thead th {\n",
       "        text-align: right;\n",
       "    }\n",
       "</style>\n",
       "<table border=\"1\" class=\"dataframe\">\n",
       "  <thead>\n",
       "    <tr style=\"text-align: right;\">\n",
       "      <th></th>\n",
       "      <th>reviewerID</th>\n",
       "      <th>dateAdded</th>\n",
       "      <th>dateUpdated</th>\n",
       "      <th>name</th>\n",
       "      <th>asin</th>\n",
       "      <th>brand</th>\n",
       "      <th>categories</th>\n",
       "      <th>primaryCategories</th>\n",
       "      <th>imageURLs</th>\n",
       "      <th>keys</th>\n",
       "      <th>...</th>\n",
       "      <th>reviews.didPurchase</th>\n",
       "      <th>reviews.doRecommend</th>\n",
       "      <th>reviews.id</th>\n",
       "      <th>reviews.numHelpful</th>\n",
       "      <th>reviews.rating</th>\n",
       "      <th>reviews.sourceURLs</th>\n",
       "      <th>reviews.text</th>\n",
       "      <th>reviews.title</th>\n",
       "      <th>reviews.username</th>\n",
       "      <th>sourceURLs</th>\n",
       "    </tr>\n",
       "  </thead>\n",
       "  <tbody>\n",
       "    <tr>\n",
       "      <th>1</th>\n",
       "      <td>100001</td>\n",
       "      <td>2015-10-30T08:59:32Z</td>\n",
       "      <td>2019-04-25T09:08:16Z</td>\n",
       "      <td>AmazonBasics AAA Performance Alkaline Batterie...</td>\n",
       "      <td>B00QWO9P0O</td>\n",
       "      <td>Amazonbasics</td>\n",
       "      <td>AA,AAA,Health,Electronics,Health &amp; Household,C...</td>\n",
       "      <td>Health &amp; Beauty</td>\n",
       "      <td>https://images-na.ssl-images-amazon.com/images...</td>\n",
       "      <td>amazonbasics/hl002619,amazonbasicsaaaperforman...</td>\n",
       "      <td>...</td>\n",
       "      <td>NaN</td>\n",
       "      <td>NaN</td>\n",
       "      <td>NaN</td>\n",
       "      <td>NaN</td>\n",
       "      <td>4</td>\n",
       "      <td>https://www.amazon.com/product-reviews/B00QWO9...</td>\n",
       "      <td>Bulk is always the less expensive way to go fo...</td>\n",
       "      <td>... always the less expensive way to go for pr...</td>\n",
       "      <td>ByMG</td>\n",
       "      <td>https://www.barcodable.com/upc/841710106442,ht...</td>\n",
       "    </tr>\n",
       "    <tr>\n",
       "      <th>4</th>\n",
       "      <td>100004</td>\n",
       "      <td>2015-10-30T08:59:32Z</td>\n",
       "      <td>2019-04-25T09:08:16Z</td>\n",
       "      <td>AmazonBasics AAA Performance Alkaline Batterie...</td>\n",
       "      <td>B00QWO9P0O</td>\n",
       "      <td>Amazonbasics</td>\n",
       "      <td>AA,AAA,Health,Electronics,Health &amp; Household,C...</td>\n",
       "      <td>Health &amp; Beauty</td>\n",
       "      <td>https://images-na.ssl-images-amazon.com/images...</td>\n",
       "      <td>amazonbasics/hl002619,amazonbasicsaaaperforman...</td>\n",
       "      <td>...</td>\n",
       "      <td>NaN</td>\n",
       "      <td>NaN</td>\n",
       "      <td>NaN</td>\n",
       "      <td>NaN</td>\n",
       "      <td>5</td>\n",
       "      <td>https://www.amazon.com/product-reviews/B00QWO9...</td>\n",
       "      <td>These batteries are very long lasting the pric...</td>\n",
       "      <td>... batteries are very long lasting the price ...</td>\n",
       "      <td>Bylinda</td>\n",
       "      <td>https://www.barcodable.com/upc/841710106442,ht...</td>\n",
       "    </tr>\n",
       "    <tr>\n",
       "      <th>6</th>\n",
       "      <td>100006</td>\n",
       "      <td>2015-10-30T08:59:32Z</td>\n",
       "      <td>2019-04-25T09:08:16Z</td>\n",
       "      <td>AmazonBasics AAA Performance Alkaline Batterie...</td>\n",
       "      <td>B00QWO9P0O</td>\n",
       "      <td>Amazonbasics</td>\n",
       "      <td>AA,AAA,Health,Electronics,Health &amp; Household,C...</td>\n",
       "      <td>Health &amp; Beauty</td>\n",
       "      <td>https://images-na.ssl-images-amazon.com/images...</td>\n",
       "      <td>amazonbasics/hl002619,amazonbasicsaaaperforman...</td>\n",
       "      <td>...</td>\n",
       "      <td>NaN</td>\n",
       "      <td>NaN</td>\n",
       "      <td>NaN</td>\n",
       "      <td>NaN</td>\n",
       "      <td>5</td>\n",
       "      <td>https://www.amazon.com/product-reviews/B00QWO9...</td>\n",
       "      <td>ive not had any problame with these batteries ...</td>\n",
       "      <td>... batteries have ordered them in the past be...</td>\n",
       "      <td>ByAmazon Customer</td>\n",
       "      <td>https://www.barcodable.com/upc/841710106442,ht...</td>\n",
       "    </tr>\n",
       "    <tr>\n",
       "      <th>15</th>\n",
       "      <td>100006</td>\n",
       "      <td>2015-10-30T08:59:32Z</td>\n",
       "      <td>2019-04-25T09:08:16Z</td>\n",
       "      <td>AmazonBasics AAA Performance Alkaline Batterie...</td>\n",
       "      <td>B00QWO9P0O</td>\n",
       "      <td>Amazonbasics</td>\n",
       "      <td>AA,AAA,Health,Electronics,Health &amp; Household,C...</td>\n",
       "      <td>Health &amp; Beauty</td>\n",
       "      <td>https://images-na.ssl-images-amazon.com/images...</td>\n",
       "      <td>amazonbasics/hl002619,amazonbasicsaaaperforman...</td>\n",
       "      <td>...</td>\n",
       "      <td>NaN</td>\n",
       "      <td>NaN</td>\n",
       "      <td>NaN</td>\n",
       "      <td>NaN</td>\n",
       "      <td>5</td>\n",
       "      <td>https://www.amazon.com/product-reviews/B00QWO9...</td>\n",
       "      <td>Thankful that I was able to find on Amazon for...</td>\n",
       "      <td>... I was able to find on Amazon for a great p...</td>\n",
       "      <td>ByAmazon Customer</td>\n",
       "      <td>https://www.barcodable.com/upc/841710106442,ht...</td>\n",
       "    </tr>\n",
       "    <tr>\n",
       "      <th>16</th>\n",
       "      <td>100015</td>\n",
       "      <td>2015-10-30T08:59:32Z</td>\n",
       "      <td>2019-04-25T09:08:16Z</td>\n",
       "      <td>AmazonBasics AAA Performance Alkaline Batterie...</td>\n",
       "      <td>B00QWO9P0O</td>\n",
       "      <td>Amazonbasics</td>\n",
       "      <td>AA,AAA,Health,Electronics,Health &amp; Household,C...</td>\n",
       "      <td>Health &amp; Beauty</td>\n",
       "      <td>https://images-na.ssl-images-amazon.com/images...</td>\n",
       "      <td>amazonbasics/hl002619,amazonbasicsaaaperforman...</td>\n",
       "      <td>...</td>\n",
       "      <td>NaN</td>\n",
       "      <td>NaN</td>\n",
       "      <td>NaN</td>\n",
       "      <td>NaN</td>\n",
       "      <td>1</td>\n",
       "      <td>https://www.amazon.com/product-reviews/B00QWO9...</td>\n",
       "      <td>I don't know if I would buy thus brand again s...</td>\n",
       "      <td>... know if I would buy thus brand again seems...</td>\n",
       "      <td>ByLaura</td>\n",
       "      <td>https://www.barcodable.com/upc/841710106442,ht...</td>\n",
       "    </tr>\n",
       "  </tbody>\n",
       "</table>\n",
       "<p>5 rows × 24 columns</p>\n",
       "</div>"
      ],
      "text/plain": [
       "    reviewerID             dateAdded           dateUpdated  \\\n",
       "1       100001  2015-10-30T08:59:32Z  2019-04-25T09:08:16Z   \n",
       "4       100004  2015-10-30T08:59:32Z  2019-04-25T09:08:16Z   \n",
       "6       100006  2015-10-30T08:59:32Z  2019-04-25T09:08:16Z   \n",
       "15      100006  2015-10-30T08:59:32Z  2019-04-25T09:08:16Z   \n",
       "16      100015  2015-10-30T08:59:32Z  2019-04-25T09:08:16Z   \n",
       "\n",
       "                                                 name        asin  \\\n",
       "1   AmazonBasics AAA Performance Alkaline Batterie...  B00QWO9P0O   \n",
       "4   AmazonBasics AAA Performance Alkaline Batterie...  B00QWO9P0O   \n",
       "6   AmazonBasics AAA Performance Alkaline Batterie...  B00QWO9P0O   \n",
       "15  AmazonBasics AAA Performance Alkaline Batterie...  B00QWO9P0O   \n",
       "16  AmazonBasics AAA Performance Alkaline Batterie...  B00QWO9P0O   \n",
       "\n",
       "           brand                                         categories  \\\n",
       "1   Amazonbasics  AA,AAA,Health,Electronics,Health & Household,C...   \n",
       "4   Amazonbasics  AA,AAA,Health,Electronics,Health & Household,C...   \n",
       "6   Amazonbasics  AA,AAA,Health,Electronics,Health & Household,C...   \n",
       "15  Amazonbasics  AA,AAA,Health,Electronics,Health & Household,C...   \n",
       "16  Amazonbasics  AA,AAA,Health,Electronics,Health & Household,C...   \n",
       "\n",
       "   primaryCategories                                          imageURLs  \\\n",
       "1    Health & Beauty  https://images-na.ssl-images-amazon.com/images...   \n",
       "4    Health & Beauty  https://images-na.ssl-images-amazon.com/images...   \n",
       "6    Health & Beauty  https://images-na.ssl-images-amazon.com/images...   \n",
       "15   Health & Beauty  https://images-na.ssl-images-amazon.com/images...   \n",
       "16   Health & Beauty  https://images-na.ssl-images-amazon.com/images...   \n",
       "\n",
       "                                                 keys  ...  \\\n",
       "1   amazonbasics/hl002619,amazonbasicsaaaperforman...  ...   \n",
       "4   amazonbasics/hl002619,amazonbasicsaaaperforman...  ...   \n",
       "6   amazonbasics/hl002619,amazonbasicsaaaperforman...  ...   \n",
       "15  amazonbasics/hl002619,amazonbasicsaaaperforman...  ...   \n",
       "16  amazonbasics/hl002619,amazonbasicsaaaperforman...  ...   \n",
       "\n",
       "   reviews.didPurchase reviews.doRecommend reviews.id reviews.numHelpful  \\\n",
       "1                  NaN                 NaN        NaN                NaN   \n",
       "4                  NaN                 NaN        NaN                NaN   \n",
       "6                  NaN                 NaN        NaN                NaN   \n",
       "15                 NaN                 NaN        NaN                NaN   \n",
       "16                 NaN                 NaN        NaN                NaN   \n",
       "\n",
       "   reviews.rating                                 reviews.sourceURLs  \\\n",
       "1               4  https://www.amazon.com/product-reviews/B00QWO9...   \n",
       "4               5  https://www.amazon.com/product-reviews/B00QWO9...   \n",
       "6               5  https://www.amazon.com/product-reviews/B00QWO9...   \n",
       "15              5  https://www.amazon.com/product-reviews/B00QWO9...   \n",
       "16              1  https://www.amazon.com/product-reviews/B00QWO9...   \n",
       "\n",
       "                                         reviews.text  \\\n",
       "1   Bulk is always the less expensive way to go fo...   \n",
       "4   These batteries are very long lasting the pric...   \n",
       "6   ive not had any problame with these batteries ...   \n",
       "15  Thankful that I was able to find on Amazon for...   \n",
       "16  I don't know if I would buy thus brand again s...   \n",
       "\n",
       "                                        reviews.title   reviews.username  \\\n",
       "1   ... always the less expensive way to go for pr...               ByMG   \n",
       "4   ... batteries are very long lasting the price ...            Bylinda   \n",
       "6   ... batteries have ordered them in the past be...  ByAmazon Customer   \n",
       "15  ... I was able to find on Amazon for a great p...  ByAmazon Customer   \n",
       "16  ... know if I would buy thus brand again seems...            ByLaura   \n",
       "\n",
       "                                           sourceURLs  \n",
       "1   https://www.barcodable.com/upc/841710106442,ht...  \n",
       "4   https://www.barcodable.com/upc/841710106442,ht...  \n",
       "6   https://www.barcodable.com/upc/841710106442,ht...  \n",
       "15  https://www.barcodable.com/upc/841710106442,ht...  \n",
       "16  https://www.barcodable.com/upc/841710106442,ht...  \n",
       "\n",
       "[5 rows x 24 columns]"
      ]
     },
     "execution_count": 19,
     "metadata": {},
     "output_type": "execute_result"
    }
   ],
   "source": [
    "train.head()"
   ]
  },
  {
   "cell_type": "code",
   "execution_count": 20,
   "metadata": {},
   "outputs": [],
   "source": [
    "#subset train and test with 3 columns\n",
    "train = train[['reviewerID', 'asin', 'reviews.rating']]\n",
    "test = test[['reviewerID', 'asin', 'reviews.rating']]"
   ]
  },
  {
   "cell_type": "code",
   "execution_count": 21,
   "metadata": {},
   "outputs": [],
   "source": [
    "# set up reader with min rating and max rating as arguments\n",
    "reader = Reader(rating_scale=(1 , 5))\n",
    "# surprise training and test set\n",
    "df_train = Dataset.load_from_df(train , reader).build_full_trainset()\n",
    "df_test = list(test.itertuples(index=False , name=None))"
   ]
  },
  {
   "cell_type": "code",
   "execution_count": 27,
   "metadata": {},
   "outputs": [
    {
     "name": "stdout",
     "output_type": "stream",
     "text": [
      "Computing the msd similarity matrix...\n",
      "Done computing similarity matrix.\n"
     ]
    }
   ],
   "source": [
    "#Init model\n",
    "model = KNNBasic(k = 20, min_k = 5 , user_based = True)\n",
    "# fit on training set\n",
    "model.fit(df_train)\n",
    "\n",
    "model_pred = model.test(df_test)"
   ]
  },
  {
   "cell_type": "code",
   "execution_count": 28,
   "metadata": {},
   "outputs": [
    {
     "name": "stdout",
     "output_type": "stream",
     "text": [
      "RMSE: 0.9485\n"
     ]
    },
    {
     "data": {
      "text/plain": [
       "0.9484988746228629"
      ]
     },
     "execution_count": 28,
     "metadata": {},
     "output_type": "execute_result"
    }
   ],
   "source": [
    "from surprise import accuracy\n",
    "accuracy.rmse(model_pred)"
   ]
  },
  {
   "cell_type": "markdown",
   "metadata": {},
   "source": [
    "### Exercise 4\n",
    "\n",
    "- Fit KNNBasic using <font color=\"blue\">pearson correlation, k=10, min_k=2, user_based=False</font> on the train set \n",
    "- Compute the predictions for the test set\n",
    "- Evaluate the predictions based on RMSE (surprise.accuracy.rmse)"
   ]
  },
  {
   "cell_type": "code",
   "execution_count": 29,
   "metadata": {},
   "outputs": [
    {
     "name": "stdout",
     "output_type": "stream",
     "text": [
      "Computing the msd similarity matrix...\n",
      "Done computing similarity matrix.\n"
     ]
    }
   ],
   "source": [
    "#Init model\n",
    "model = KNNBasic(k = 10, min_k = 2 , user_based = False)\n",
    "# fit on training set\n",
    "model.fit(df_train)\n",
    "\n",
    "model_pred = model.test(df_test)"
   ]
  },
  {
   "cell_type": "code",
   "execution_count": 30,
   "metadata": {},
   "outputs": [
    {
     "name": "stdout",
     "output_type": "stream",
     "text": [
      "RMSE: 0.9565\n"
     ]
    },
    {
     "data": {
      "text/plain": [
       "0.9564987344446368"
      ]
     },
     "execution_count": 30,
     "metadata": {},
     "output_type": "execute_result"
    }
   ],
   "source": [
    "from surprise import accuracy\n",
    "accuracy.rmse(model_pred)"
   ]
  },
  {
   "cell_type": "markdown",
   "metadata": {},
   "source": [
    "### Exercise 5\n",
    "\n",
    "- Fit ALS on the train set (select your own parameter)\n",
    "- Fit SVD on the train set (select your own parameter)\n",
    "- Compute the predictions for the test set\n",
    "- Evaluate the predictions based on RMSE (surprise.accuracy.rmse)"
   ]
  },
  {
   "cell_type": "code",
   "execution_count": 36,
   "metadata": {},
   "outputs": [],
   "source": [
    "from surprise import BaselineOnly , SVD, CoClustering"
   ]
  },
  {
   "cell_type": "code",
   "execution_count": 46,
   "metadata": {},
   "outputs": [
    {
     "name": "stdout",
     "output_type": "stream",
     "text": [
      "Estimating biases using als...\n",
      "RMSE: 0.8777\n"
     ]
    },
    {
     "data": {
      "text/plain": [
       "0.8777160213195775"
      ]
     },
     "execution_count": 46,
     "metadata": {},
     "output_type": "execute_result"
    }
   ],
   "source": [
    "options = {\"method\": \"als\", \"n_epochs\": 7}\n",
    "als = BaselineOnly(bsl_options=options)\n",
    "\n",
    "# fit on training set\n",
    "als.fit(df_train)\n",
    "\n",
    "# predict test set\n",
    "als_pred = als.test(df_test)\n",
    "\n",
    "# compute rmse\n",
    "accuracy.rmse(als_pred)"
   ]
  },
  {
   "cell_type": "code",
   "execution_count": 48,
   "metadata": {},
   "outputs": [
    {
     "name": "stdout",
     "output_type": "stream",
     "text": [
      "RMSE: 0.8912\n"
     ]
    },
    {
     "data": {
      "text/plain": [
       "0.891161694529738"
      ]
     },
     "execution_count": 48,
     "metadata": {},
     "output_type": "execute_result"
    }
   ],
   "source": [
    "svd = SVD(n_factors=5,random_state=42)\n",
    "\n",
    "# fit on training set\n",
    "svd.fit(df_train)\n",
    "\n",
    "# predict test set\n",
    "svd_pred = svd.test(df_test)\n",
    "\n",
    "# compute rmse\n",
    "accuracy.rmse(svd_pred)"
   ]
  },
  {
   "cell_type": "markdown",
   "metadata": {},
   "source": [
    "### Exercise 6\n",
    "\n",
    "- Fit CoClustering using <font color=\"blue\">user clusters=10, item clusters=10, epochs=50</font> on the train set \n",
    "- Compute the predictions for the test set\n",
    "- Evaluate the predictions based on RMSE (surprise.accuracy.rmse)"
   ]
  },
  {
   "cell_type": "code",
   "execution_count": 50,
   "metadata": {},
   "outputs": [
    {
     "name": "stderr",
     "output_type": "stream",
     "text": [
      "<ipython-input-50-fa797124a455>:4: DeprecationWarning: `np.int` is a deprecated alias for the builtin `int`. To silence this warning, use `int` by itself. Doing this will not modify any behavior and is safe. When replacing `np.int`, you may wish to use e.g. `np.int64` or `np.int32` to specify the precision. If you wish to review your current use, check the release note link for additional information.\n",
      "Deprecated in NumPy 1.20; for more details and guidance: https://numpy.org/devdocs/release/1.20.0-notes.html#deprecations\n",
      "  clust.fit(df_train)\n"
     ]
    },
    {
     "name": "stdout",
     "output_type": "stream",
     "text": [
      "RMSE: 0.9808\n"
     ]
    },
    {
     "data": {
      "text/plain": [
       "0.9807687627816852"
      ]
     },
     "execution_count": 50,
     "metadata": {},
     "output_type": "execute_result"
    }
   ],
   "source": [
    "clust = CoClustering(n_cltr_u= 10 , n_cltr_i = 10,n_epochs = 50 , random_state = 42)\n",
    "\n",
    "# fit on training set\n",
    "clust.fit(df_train)\n",
    "\n",
    "# predict test set\n",
    "clust_pred = clust.test(df_test)\n",
    "\n",
    "# compute rmse\n",
    "accuracy.rmse(clust_pred)"
   ]
  },
  {
   "cell_type": "markdown",
   "metadata": {},
   "source": [
    "### Exercise 7\n",
    "\n",
    "- Display the Top 3 recommendations for the user \"Robert\" for all models (user-based, item-based, svd, clustering)\n",
    "- you can use the function below"
   ]
  },
  {
   "cell_type": "markdown",
   "metadata": {},
   "source": [
    "```python\n",
    "\n",
    "def predict_user_topn(model, train, user, topk=15, item_col='item'):\n",
    "    \"\"\"\n",
    "    Returns topk items for specified user.\n",
    "    Return type: list\n",
    "\n",
    "    Args[model, train, user, topk, item_col]\n",
    "    model:      fitted model (surprise package)\n",
    "    train:      train set used to fit model\n",
    "    user:       user id\n",
    "    topk:       topk items to return\n",
    "    item_col:   column containing item ids \n",
    "    \"\"\"\n",
    "\n",
    "    # intermediate result dict \n",
    "    res = {item_col:[], 'pred':[], 'detail':[]}\n",
    "    \n",
    "    # iter through all items contained in train set\n",
    "    for item in set(train[item_col]) :\n",
    "        uid, iid, true_r, est, detail = model.predict(user,item)\n",
    "        if detail['was_impossible']: continue\n",
    "        # save to result dict\n",
    "        res[item_col].append(item)\n",
    "        res['pred'].append(est)\n",
    "        res['detail'].append(detail)\n",
    "\n",
    "    return list(pd.DataFrame(res).sort_values('pred', ascending=False)[:topk][item_col])\n",
    "\n",
    "```"
   ]
  },
  {
   "cell_type": "code",
   "execution_count": 88,
   "metadata": {},
   "outputs": [],
   "source": [
    "models = [svd, als, clust]\n",
    "\n",
    "#Loop into dictionary\n",
    "d={}\n",
    "for model in models:\n",
    "    d[model] = predict_user_topn(model, train, \"Robert\", topk=15, item_col=\"asin\")\n",
    "    \n",
    "#Create dataframe\n",
    "d = pd.DataFrame.from_dict(d)\n",
    "d.rename(columns={ d.columns[0]: \"SVD\", d.columns[1]: \"ALS\", d.columns[2]: \"Clustering\"}, inplace = True)\n",
    "d.index += 1 "
   ]
  },
  {
   "cell_type": "code",
   "execution_count": 89,
   "metadata": {},
   "outputs": [
    {
     "data": {
      "text/html": [
       "<div>\n",
       "<style scoped>\n",
       "    .dataframe tbody tr th:only-of-type {\n",
       "        vertical-align: middle;\n",
       "    }\n",
       "\n",
       "    .dataframe tbody tr th {\n",
       "        vertical-align: top;\n",
       "    }\n",
       "\n",
       "    .dataframe thead th {\n",
       "        text-align: right;\n",
       "    }\n",
       "</style>\n",
       "<table border=\"1\" class=\"dataframe\">\n",
       "  <thead>\n",
       "    <tr style=\"text-align: right;\">\n",
       "      <th></th>\n",
       "      <th>SVD</th>\n",
       "      <th>ALS</th>\n",
       "      <th>Clustering</th>\n",
       "    </tr>\n",
       "  </thead>\n",
       "  <tbody>\n",
       "    <tr>\n",
       "      <th>1</th>\n",
       "      <td>B00QFQRELG</td>\n",
       "      <td>B00QFQRELG</td>\n",
       "      <td>B018Y224PY</td>\n",
       "    </tr>\n",
       "    <tr>\n",
       "      <th>2</th>\n",
       "      <td>B00IOY8XWQ</td>\n",
       "      <td>B00IOY8XWQ</td>\n",
       "      <td>B018Y226XO</td>\n",
       "    </tr>\n",
       "    <tr>\n",
       "      <th>3</th>\n",
       "      <td>B00IOYAM4I</td>\n",
       "      <td>B00IOYAM4I</td>\n",
       "      <td>B00VINDBJK</td>\n",
       "    </tr>\n",
       "    <tr>\n",
       "      <th>4</th>\n",
       "      <td>B018SZT3BK</td>\n",
       "      <td>B018SZT3BK</td>\n",
       "      <td>B00EEBS9O0</td>\n",
       "    </tr>\n",
       "    <tr>\n",
       "      <th>5</th>\n",
       "      <td>B018T075DC</td>\n",
       "      <td>B00REQKWGA</td>\n",
       "      <td>B00IOY8XWQ</td>\n",
       "    </tr>\n",
       "    <tr>\n",
       "      <th>6</th>\n",
       "      <td>B00REQKWGA</td>\n",
       "      <td>B018T075DC</td>\n",
       "      <td>B018Y23MNM</td>\n",
       "    </tr>\n",
       "    <tr>\n",
       "      <th>7</th>\n",
       "      <td>B00ZS0G0PG</td>\n",
       "      <td>B00ZS0G0PG</td>\n",
       "      <td>B018Y225IA</td>\n",
       "    </tr>\n",
       "    <tr>\n",
       "      <th>8</th>\n",
       "      <td>B0189XZRTI</td>\n",
       "      <td>B01AHBDCKQ</td>\n",
       "      <td>B01BH83OOM</td>\n",
       "    </tr>\n",
       "    <tr>\n",
       "      <th>9</th>\n",
       "      <td>B01AHBBG04</td>\n",
       "      <td>B0189XZRTI</td>\n",
       "      <td>B018Y22BI4</td>\n",
       "    </tr>\n",
       "    <tr>\n",
       "      <th>10</th>\n",
       "      <td>B00VINDBJK</td>\n",
       "      <td>B01AHB9C1E</td>\n",
       "      <td>B00ZV9PXP2</td>\n",
       "    </tr>\n",
       "    <tr>\n",
       "      <th>11</th>\n",
       "      <td>B01AHBDCKQ</td>\n",
       "      <td>B00VINDBJK</td>\n",
       "      <td>B00DUGZFWY</td>\n",
       "    </tr>\n",
       "    <tr>\n",
       "      <th>12</th>\n",
       "      <td>B01AHB9CYG</td>\n",
       "      <td>B01AHB9CYG</td>\n",
       "      <td>B00IOYAM4I</td>\n",
       "    </tr>\n",
       "    <tr>\n",
       "      <th>13</th>\n",
       "      <td>B01AHB9C1E</td>\n",
       "      <td>B01AHBBG04</td>\n",
       "      <td>B01AHBDCKQ</td>\n",
       "    </tr>\n",
       "    <tr>\n",
       "      <th>14</th>\n",
       "      <td>B00ZV9PXP2</td>\n",
       "      <td>B01BH83OOM</td>\n",
       "      <td>B00QFQRELG</td>\n",
       "    </tr>\n",
       "    <tr>\n",
       "      <th>15</th>\n",
       "      <td>B01BH83OOM</td>\n",
       "      <td>B00ZV9PXP2</td>\n",
       "      <td>B01AHB9CYG</td>\n",
       "    </tr>\n",
       "  </tbody>\n",
       "</table>\n",
       "</div>"
      ],
      "text/plain": [
       "           SVD         ALS  Clustering\n",
       "1   B00QFQRELG  B00QFQRELG  B018Y224PY\n",
       "2   B00IOY8XWQ  B00IOY8XWQ  B018Y226XO\n",
       "3   B00IOYAM4I  B00IOYAM4I  B00VINDBJK\n",
       "4   B018SZT3BK  B018SZT3BK  B00EEBS9O0\n",
       "5   B018T075DC  B00REQKWGA  B00IOY8XWQ\n",
       "6   B00REQKWGA  B018T075DC  B018Y23MNM\n",
       "7   B00ZS0G0PG  B00ZS0G0PG  B018Y225IA\n",
       "8   B0189XZRTI  B01AHBDCKQ  B01BH83OOM\n",
       "9   B01AHBBG04  B0189XZRTI  B018Y22BI4\n",
       "10  B00VINDBJK  B01AHB9C1E  B00ZV9PXP2\n",
       "11  B01AHBDCKQ  B00VINDBJK  B00DUGZFWY\n",
       "12  B01AHB9CYG  B01AHB9CYG  B00IOYAM4I\n",
       "13  B01AHB9C1E  B01AHBBG04  B01AHBDCKQ\n",
       "14  B00ZV9PXP2  B01BH83OOM  B00QFQRELG\n",
       "15  B01BH83OOM  B00ZV9PXP2  B01AHB9CYG"
      ]
     },
     "execution_count": 89,
     "metadata": {},
     "output_type": "execute_result"
    }
   ],
   "source": [
    "d"
   ]
  }
 ],
 "metadata": {
  "kernelspec": {
   "display_name": "Python 3",
   "language": "python",
   "name": "python3"
  },
  "language_info": {
   "codemirror_mode": {
    "name": "ipython",
    "version": 3
   },
   "file_extension": ".py",
   "mimetype": "text/x-python",
   "name": "python",
   "nbconvert_exporter": "python",
   "pygments_lexer": "ipython3",
   "version": "3.9.4"
  }
 },
 "nbformat": 4,
 "nbformat_minor": 2
}
